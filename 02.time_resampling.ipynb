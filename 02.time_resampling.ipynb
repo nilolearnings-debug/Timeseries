{
 "cells": [
  {
   "cell_type": "markdown",
   "id": "a066b325",
   "metadata": {},
   "source": [
    "# Time Resampling"
   ]
  },
  {
   "cell_type": "code",
   "execution_count": 25,
   "id": "7409fc35",
   "metadata": {},
   "outputs": [],
   "source": [
    "import pandas as pd\n",
    "\n",
    "df = pd.read_csv(\"starbucks.csv\",index_col = \"Date\")"
   ]
  },
  {
   "cell_type": "code",
   "execution_count": 26,
   "id": "23d06e63",
   "metadata": {},
   "outputs": [
    {
     "data": {
      "text/html": [
       "<div>\n",
       "<style scoped>\n",
       "    .dataframe tbody tr th:only-of-type {\n",
       "        vertical-align: middle;\n",
       "    }\n",
       "\n",
       "    .dataframe tbody tr th {\n",
       "        vertical-align: top;\n",
       "    }\n",
       "\n",
       "    .dataframe thead th {\n",
       "        text-align: right;\n",
       "    }\n",
       "</style>\n",
       "<table border=\"1\" class=\"dataframe\">\n",
       "  <thead>\n",
       "    <tr style=\"text-align: right;\">\n",
       "      <th></th>\n",
       "      <th>Close</th>\n",
       "      <th>Volume</th>\n",
       "    </tr>\n",
       "    <tr>\n",
       "      <th>Date</th>\n",
       "      <th></th>\n",
       "      <th></th>\n",
       "    </tr>\n",
       "  </thead>\n",
       "  <tbody>\n",
       "    <tr>\n",
       "      <th>1992-06-26</th>\n",
       "      <td>0.252696</td>\n",
       "      <td>224358400</td>\n",
       "    </tr>\n",
       "    <tr>\n",
       "      <th>1992-06-29</th>\n",
       "      <td>0.270325</td>\n",
       "      <td>58732800</td>\n",
       "    </tr>\n",
       "    <tr>\n",
       "      <th>1992-06-30</th>\n",
       "      <td>0.261510</td>\n",
       "      <td>34777600</td>\n",
       "    </tr>\n",
       "    <tr>\n",
       "      <th>1992-07-01</th>\n",
       "      <td>0.267387</td>\n",
       "      <td>18316800</td>\n",
       "    </tr>\n",
       "    <tr>\n",
       "      <th>1992-07-02</th>\n",
       "      <td>0.267387</td>\n",
       "      <td>13996800</td>\n",
       "    </tr>\n",
       "  </tbody>\n",
       "</table>\n",
       "</div>"
      ],
      "text/plain": [
       "               Close     Volume\n",
       "Date                           \n",
       "1992-06-26  0.252696  224358400\n",
       "1992-06-29  0.270325   58732800\n",
       "1992-06-30  0.261510   34777600\n",
       "1992-07-01  0.267387   18316800\n",
       "1992-07-02  0.267387   13996800"
      ]
     },
     "execution_count": 26,
     "metadata": {},
     "output_type": "execute_result"
    }
   ],
   "source": [
    "df.head()"
   ]
  },
  {
   "cell_type": "code",
   "execution_count": 24,
   "id": "4f7daf76",
   "metadata": {},
   "outputs": [
    {
     "data": {
      "text/plain": [
       "(8372, 3)"
      ]
     },
     "execution_count": 24,
     "metadata": {},
     "output_type": "execute_result"
    }
   ],
   "source": [
    "df.shape"
   ]
  },
  {
   "cell_type": "code",
   "execution_count": 27,
   "id": "e0901ca3",
   "metadata": {},
   "outputs": [
    {
     "name": "stdout",
     "output_type": "stream",
     "text": [
      "<class 'pandas.core.frame.DataFrame'>\n",
      "Index: 8372 entries, 1992-06-26 to 2025-09-26\n",
      "Data columns (total 2 columns):\n",
      " #   Column  Non-Null Count  Dtype  \n",
      "---  ------  --------------  -----  \n",
      " 0   Close   8372 non-null   float64\n",
      " 1   Volume  8372 non-null   int64  \n",
      "dtypes: float64(1), int64(1)\n",
      "memory usage: 196.2+ KB\n"
     ]
    }
   ],
   "source": [
    "df.info()"
   ]
  },
  {
   "cell_type": "code",
   "execution_count": 28,
   "id": "7f7f5098",
   "metadata": {},
   "outputs": [
    {
     "data": {
      "text/plain": [
       "Index(['1992-06-26', '1992-06-29', '1992-06-30', '1992-07-01', '1992-07-02',\n",
       "       '1992-07-06', '1992-07-07', '1992-07-08', '1992-07-09', '1992-07-10',\n",
       "       ...\n",
       "       '2025-09-15', '2025-09-16', '2025-09-17', '2025-09-18', '2025-09-19',\n",
       "       '2025-09-22', '2025-09-23', '2025-09-24', '2025-09-25', '2025-09-26'],\n",
       "      dtype='object', name='Date', length=8372)"
      ]
     },
     "execution_count": 28,
     "metadata": {},
     "output_type": "execute_result"
    }
   ],
   "source": [
    "df.index"
   ]
  },
  {
   "cell_type": "code",
   "execution_count": 30,
   "id": "42011a32",
   "metadata": {},
   "outputs": [],
   "source": [
    "df = pd.read_csv(\"starbucks.csv\",index_col = \"Date\",parse_dates=True)"
   ]
  },
  {
   "cell_type": "code",
   "execution_count": 31,
   "id": "2e845005",
   "metadata": {},
   "outputs": [
    {
     "data": {
      "text/plain": [
       "DatetimeIndex(['1992-06-26', '1992-06-29', '1992-06-30', '1992-07-01',\n",
       "               '1992-07-02', '1992-07-06', '1992-07-07', '1992-07-08',\n",
       "               '1992-07-09', '1992-07-10',\n",
       "               ...\n",
       "               '2025-09-15', '2025-09-16', '2025-09-17', '2025-09-18',\n",
       "               '2025-09-19', '2025-09-22', '2025-09-23', '2025-09-24',\n",
       "               '2025-09-25', '2025-09-26'],\n",
       "              dtype='datetime64[ns]', name='Date', length=8372, freq=None)"
      ]
     },
     "execution_count": 31,
     "metadata": {},
     "output_type": "execute_result"
    }
   ],
   "source": [
    "df.index"
   ]
  },
  {
   "cell_type": "markdown",
   "id": "94f16e06",
   "metadata": {},
   "source": [
    "# resample()"
   ]
  },
  {
   "cell_type": "markdown",
   "id": "f3fbf1ab",
   "metadata": {},
   "source": [
    "![Alt text](/home/nilo/projects/Timeseries/resample_rules.jpeg)"
   ]
  },
  {
   "cell_type": "code",
   "execution_count": 34,
   "id": "d42529c3",
   "metadata": {},
   "outputs": [],
   "source": [
    "df = df[df.index >= \"2015-01-01\"]"
   ]
  },
  {
   "cell_type": "code",
   "execution_count": 36,
   "id": "6484e5e6",
   "metadata": {},
   "outputs": [
    {
     "data": {
      "text/html": [
       "<div>\n",
       "<style scoped>\n",
       "    .dataframe tbody tr th:only-of-type {\n",
       "        vertical-align: middle;\n",
       "    }\n",
       "\n",
       "    .dataframe tbody tr th {\n",
       "        vertical-align: top;\n",
       "    }\n",
       "\n",
       "    .dataframe thead th {\n",
       "        text-align: right;\n",
       "    }\n",
       "</style>\n",
       "<table border=\"1\" class=\"dataframe\">\n",
       "  <thead>\n",
       "    <tr style=\"text-align: right;\">\n",
       "      <th></th>\n",
       "      <th>Close</th>\n",
       "      <th>Volume</th>\n",
       "    </tr>\n",
       "    <tr>\n",
       "      <th>Date</th>\n",
       "      <th></th>\n",
       "      <th></th>\n",
       "    </tr>\n",
       "  </thead>\n",
       "  <tbody>\n",
       "    <tr>\n",
       "      <th>2015-01-02</th>\n",
       "      <td>32.895290</td>\n",
       "      <td>6886000</td>\n",
       "    </tr>\n",
       "    <tr>\n",
       "      <th>2015-01-05</th>\n",
       "      <td>32.265186</td>\n",
       "      <td>11623800</td>\n",
       "    </tr>\n",
       "    <tr>\n",
       "      <th>2015-01-06</th>\n",
       "      <td>32.002632</td>\n",
       "      <td>7664400</td>\n",
       "    </tr>\n",
       "    <tr>\n",
       "      <th>2015-01-07</th>\n",
       "      <td>32.790276</td>\n",
       "      <td>9732600</td>\n",
       "    </tr>\n",
       "    <tr>\n",
       "      <th>2015-01-08</th>\n",
       "      <td>33.319416</td>\n",
       "      <td>13170600</td>\n",
       "    </tr>\n",
       "    <tr>\n",
       "      <th>...</th>\n",
       "      <td>...</td>\n",
       "      <td>...</td>\n",
       "    </tr>\n",
       "    <tr>\n",
       "      <th>2025-09-22</th>\n",
       "      <td>85.290001</td>\n",
       "      <td>7881700</td>\n",
       "    </tr>\n",
       "    <tr>\n",
       "      <th>2025-09-23</th>\n",
       "      <td>85.690002</td>\n",
       "      <td>8765500</td>\n",
       "    </tr>\n",
       "    <tr>\n",
       "      <th>2025-09-24</th>\n",
       "      <td>84.269997</td>\n",
       "      <td>9664000</td>\n",
       "    </tr>\n",
       "    <tr>\n",
       "      <th>2025-09-25</th>\n",
       "      <td>83.830002</td>\n",
       "      <td>8664600</td>\n",
       "    </tr>\n",
       "    <tr>\n",
       "      <th>2025-09-26</th>\n",
       "      <td>83.379997</td>\n",
       "      <td>4675396</td>\n",
       "    </tr>\n",
       "  </tbody>\n",
       "</table>\n",
       "<p>2700 rows × 2 columns</p>\n",
       "</div>"
      ],
      "text/plain": [
       "                Close    Volume\n",
       "Date                           \n",
       "2015-01-02  32.895290   6886000\n",
       "2015-01-05  32.265186  11623800\n",
       "2015-01-06  32.002632   7664400\n",
       "2015-01-07  32.790276   9732600\n",
       "2015-01-08  33.319416  13170600\n",
       "...               ...       ...\n",
       "2025-09-22  85.290001   7881700\n",
       "2025-09-23  85.690002   8765500\n",
       "2025-09-24  84.269997   9664000\n",
       "2025-09-25  83.830002   8664600\n",
       "2025-09-26  83.379997   4675396\n",
       "\n",
       "[2700 rows x 2 columns]"
      ]
     },
     "execution_count": 36,
     "metadata": {},
     "output_type": "execute_result"
    }
   ],
   "source": [
    "df"
   ]
  },
  {
   "cell_type": "code",
   "execution_count": null,
   "id": "375ca265",
   "metadata": {},
   "outputs": [
    {
     "name": "stderr",
     "output_type": "stream",
     "text": [
      "/tmp/ipykernel_19852/1703398618.py:1: FutureWarning: 'A' is deprecated and will be removed in a future version, please use 'YE' instead.\n",
      "  df.resample(rule=\"A\").mean()\n"
     ]
    },
    {
     "data": {
      "text/html": [
       "<div>\n",
       "<style scoped>\n",
       "    .dataframe tbody tr th:only-of-type {\n",
       "        vertical-align: middle;\n",
       "    }\n",
       "\n",
       "    .dataframe tbody tr th {\n",
       "        vertical-align: top;\n",
       "    }\n",
       "\n",
       "    .dataframe thead th {\n",
       "        text-align: right;\n",
       "    }\n",
       "</style>\n",
       "<table border=\"1\" class=\"dataframe\">\n",
       "  <thead>\n",
       "    <tr style=\"text-align: right;\">\n",
       "      <th></th>\n",
       "      <th>Close</th>\n",
       "      <th>Volume</th>\n",
       "    </tr>\n",
       "    <tr>\n",
       "      <th>Date</th>\n",
       "      <th></th>\n",
       "      <th></th>\n",
       "    </tr>\n",
       "  </thead>\n",
       "  <tbody>\n",
       "    <tr>\n",
       "      <th>2015-12-31</th>\n",
       "      <td>43.344098</td>\n",
       "      <td>8.648356e+06</td>\n",
       "    </tr>\n",
       "    <tr>\n",
       "      <th>2016-12-31</th>\n",
       "      <td>46.644715</td>\n",
       "      <td>9.300222e+06</td>\n",
       "    </tr>\n",
       "    <tr>\n",
       "      <th>2017-12-31</th>\n",
       "      <td>47.999726</td>\n",
       "      <td>9.295893e+06</td>\n",
       "    </tr>\n",
       "    <tr>\n",
       "      <th>2018-12-31</th>\n",
       "      <td>49.222424</td>\n",
       "      <td>1.122824e+07</td>\n",
       "    </tr>\n",
       "    <tr>\n",
       "      <th>2019-12-31</th>\n",
       "      <td>71.230298</td>\n",
       "      <td>7.996700e+06</td>\n",
       "    </tr>\n",
       "    <tr>\n",
       "      <th>2020-12-31</th>\n",
       "      <td>73.893579</td>\n",
       "      <td>9.634834e+06</td>\n",
       "    </tr>\n",
       "    <tr>\n",
       "      <th>2021-12-31</th>\n",
       "      <td>101.709085</td>\n",
       "      <td>6.095756e+06</td>\n",
       "    </tr>\n",
       "    <tr>\n",
       "      <th>2022-12-31</th>\n",
       "      <td>81.150594</td>\n",
       "      <td>8.771831e+06</td>\n",
       "    </tr>\n",
       "    <tr>\n",
       "      <th>2023-12-31</th>\n",
       "      <td>95.405969</td>\n",
       "      <td>6.561352e+06</td>\n",
       "    </tr>\n",
       "    <tr>\n",
       "      <th>2024-12-31</th>\n",
       "      <td>86.478608</td>\n",
       "      <td>1.080051e+07</td>\n",
       "    </tr>\n",
       "    <tr>\n",
       "      <th>2025-12-31</th>\n",
       "      <td>92.179469</td>\n",
       "      <td>1.025434e+07</td>\n",
       "    </tr>\n",
       "  </tbody>\n",
       "</table>\n",
       "</div>"
      ],
      "text/plain": [
       "                 Close        Volume\n",
       "Date                                \n",
       "2015-12-31   43.344098  8.648356e+06\n",
       "2016-12-31   46.644715  9.300222e+06\n",
       "2017-12-31   47.999726  9.295893e+06\n",
       "2018-12-31   49.222424  1.122824e+07\n",
       "2019-12-31   71.230298  7.996700e+06\n",
       "2020-12-31   73.893579  9.634834e+06\n",
       "2021-12-31  101.709085  6.095756e+06\n",
       "2022-12-31   81.150594  8.771831e+06\n",
       "2023-12-31   95.405969  6.561352e+06\n",
       "2024-12-31   86.478608  1.080051e+07\n",
       "2025-12-31   92.179469  1.025434e+07"
      ]
     },
     "execution_count": 37,
     "metadata": {},
     "output_type": "execute_result"
    }
   ],
   "source": [
    "# Average closing price per year\n",
    "df.resample(rule=\"A\").mean()   #min, max, sum, std"
   ]
  },
  {
   "cell_type": "code",
   "execution_count": 38,
   "id": "70f5e3fd",
   "metadata": {},
   "outputs": [
    {
     "name": "stderr",
     "output_type": "stream",
     "text": [
      "/tmp/ipykernel_19852/3058367082.py:6: FutureWarning: 'A' is deprecated and will be removed in a future version, please use 'YE' instead.\n",
      "  df.resample(rule=\"A\").apply(fist_day)\n",
      "/tmp/ipykernel_19852/3058367082.py:5: FutureWarning: Series.__getitem__ treating keys as positions is deprecated. In a future version, integer keys will always be treated as labels (consistent with DataFrame behavior). To access a value by position, use `ser.iloc[pos]`\n",
      "  return entry[0]\n"
     ]
    },
    {
     "data": {
      "text/html": [
       "<div>\n",
       "<style scoped>\n",
       "    .dataframe tbody tr th:only-of-type {\n",
       "        vertical-align: middle;\n",
       "    }\n",
       "\n",
       "    .dataframe tbody tr th {\n",
       "        vertical-align: top;\n",
       "    }\n",
       "\n",
       "    .dataframe thead th {\n",
       "        text-align: right;\n",
       "    }\n",
       "</style>\n",
       "<table border=\"1\" class=\"dataframe\">\n",
       "  <thead>\n",
       "    <tr style=\"text-align: right;\">\n",
       "      <th></th>\n",
       "      <th>Close</th>\n",
       "      <th>Volume</th>\n",
       "    </tr>\n",
       "    <tr>\n",
       "      <th>Date</th>\n",
       "      <th></th>\n",
       "      <th></th>\n",
       "    </tr>\n",
       "  </thead>\n",
       "  <tbody>\n",
       "    <tr>\n",
       "      <th>2015-12-31</th>\n",
       "      <td>32.895290</td>\n",
       "      <td>6886000</td>\n",
       "    </tr>\n",
       "    <tr>\n",
       "      <th>2016-12-31</th>\n",
       "      <td>47.671406</td>\n",
       "      <td>13521500</td>\n",
       "    </tr>\n",
       "    <tr>\n",
       "      <th>2017-12-31</th>\n",
       "      <td>45.968033</td>\n",
       "      <td>7809300</td>\n",
       "    </tr>\n",
       "    <tr>\n",
       "      <th>2018-12-31</th>\n",
       "      <td>48.750107</td>\n",
       "      <td>7216000</td>\n",
       "    </tr>\n",
       "    <tr>\n",
       "      <th>2019-12-31</th>\n",
       "      <td>55.670593</td>\n",
       "      <td>10094000</td>\n",
       "    </tr>\n",
       "    <tr>\n",
       "      <th>2020-12-31</th>\n",
       "      <td>78.786842</td>\n",
       "      <td>6473800</td>\n",
       "    </tr>\n",
       "    <tr>\n",
       "      <th>2021-12-31</th>\n",
       "      <td>92.786278</td>\n",
       "      <td>8041500</td>\n",
       "    </tr>\n",
       "    <tr>\n",
       "      <th>2022-12-31</th>\n",
       "      <td>106.743629</td>\n",
       "      <td>5475700</td>\n",
       "    </tr>\n",
       "    <tr>\n",
       "      <th>2023-12-31</th>\n",
       "      <td>94.435699</td>\n",
       "      <td>6607700</td>\n",
       "    </tr>\n",
       "    <tr>\n",
       "      <th>2024-12-31</th>\n",
       "      <td>89.570396</td>\n",
       "      <td>8859700</td>\n",
       "    </tr>\n",
       "    <tr>\n",
       "      <th>2025-12-31</th>\n",
       "      <td>90.434898</td>\n",
       "      <td>8640900</td>\n",
       "    </tr>\n",
       "  </tbody>\n",
       "</table>\n",
       "</div>"
      ],
      "text/plain": [
       "                 Close    Volume\n",
       "Date                            \n",
       "2015-12-31   32.895290   6886000\n",
       "2016-12-31   47.671406  13521500\n",
       "2017-12-31   45.968033   7809300\n",
       "2018-12-31   48.750107   7216000\n",
       "2019-12-31   55.670593  10094000\n",
       "2020-12-31   78.786842   6473800\n",
       "2021-12-31   92.786278   8041500\n",
       "2022-12-31  106.743629   5475700\n",
       "2023-12-31   94.435699   6607700\n",
       "2024-12-31   89.570396   8859700\n",
       "2025-12-31   90.434898   8640900"
      ]
     },
     "execution_count": 38,
     "metadata": {},
     "output_type": "execute_result"
    }
   ],
   "source": [
    "#custom resampling rule\n",
    "\n",
    "def fist_day(entry):\n",
    "    if len(entry) != 0:\n",
    "        return entry[0]\n",
    "df.resample(rule=\"A\").apply(fist_day)"
   ]
  },
  {
   "cell_type": "markdown",
   "id": "7b597925",
   "metadata": {},
   "source": [
    "# Visualization"
   ]
  },
  {
   "cell_type": "code",
   "execution_count": 39,
   "id": "ff2b1307",
   "metadata": {},
   "outputs": [
    {
     "data": {
      "text/html": [
       "<div>\n",
       "<style scoped>\n",
       "    .dataframe tbody tr th:only-of-type {\n",
       "        vertical-align: middle;\n",
       "    }\n",
       "\n",
       "    .dataframe tbody tr th {\n",
       "        vertical-align: top;\n",
       "    }\n",
       "\n",
       "    .dataframe thead th {\n",
       "        text-align: right;\n",
       "    }\n",
       "</style>\n",
       "<table border=\"1\" class=\"dataframe\">\n",
       "  <thead>\n",
       "    <tr style=\"text-align: right;\">\n",
       "      <th></th>\n",
       "      <th>Close</th>\n",
       "      <th>Volume</th>\n",
       "    </tr>\n",
       "    <tr>\n",
       "      <th>Date</th>\n",
       "      <th></th>\n",
       "      <th></th>\n",
       "    </tr>\n",
       "  </thead>\n",
       "  <tbody>\n",
       "    <tr>\n",
       "      <th>2015-01-02</th>\n",
       "      <td>32.895290</td>\n",
       "      <td>6886000</td>\n",
       "    </tr>\n",
       "    <tr>\n",
       "      <th>2015-01-05</th>\n",
       "      <td>32.265186</td>\n",
       "      <td>11623800</td>\n",
       "    </tr>\n",
       "    <tr>\n",
       "      <th>2015-01-06</th>\n",
       "      <td>32.002632</td>\n",
       "      <td>7664400</td>\n",
       "    </tr>\n",
       "    <tr>\n",
       "      <th>2015-01-07</th>\n",
       "      <td>32.790276</td>\n",
       "      <td>9732600</td>\n",
       "    </tr>\n",
       "    <tr>\n",
       "      <th>2015-01-08</th>\n",
       "      <td>33.319416</td>\n",
       "      <td>13170600</td>\n",
       "    </tr>\n",
       "    <tr>\n",
       "      <th>...</th>\n",
       "      <td>...</td>\n",
       "      <td>...</td>\n",
       "    </tr>\n",
       "    <tr>\n",
       "      <th>2025-09-22</th>\n",
       "      <td>85.290001</td>\n",
       "      <td>7881700</td>\n",
       "    </tr>\n",
       "    <tr>\n",
       "      <th>2025-09-23</th>\n",
       "      <td>85.690002</td>\n",
       "      <td>8765500</td>\n",
       "    </tr>\n",
       "    <tr>\n",
       "      <th>2025-09-24</th>\n",
       "      <td>84.269997</td>\n",
       "      <td>9664000</td>\n",
       "    </tr>\n",
       "    <tr>\n",
       "      <th>2025-09-25</th>\n",
       "      <td>83.830002</td>\n",
       "      <td>8664600</td>\n",
       "    </tr>\n",
       "    <tr>\n",
       "      <th>2025-09-26</th>\n",
       "      <td>83.379997</td>\n",
       "      <td>4675396</td>\n",
       "    </tr>\n",
       "  </tbody>\n",
       "</table>\n",
       "<p>2700 rows × 2 columns</p>\n",
       "</div>"
      ],
      "text/plain": [
       "                Close    Volume\n",
       "Date                           \n",
       "2015-01-02  32.895290   6886000\n",
       "2015-01-05  32.265186  11623800\n",
       "2015-01-06  32.002632   7664400\n",
       "2015-01-07  32.790276   9732600\n",
       "2015-01-08  33.319416  13170600\n",
       "...               ...       ...\n",
       "2025-09-22  85.290001   7881700\n",
       "2025-09-23  85.690002   8765500\n",
       "2025-09-24  84.269997   9664000\n",
       "2025-09-25  83.830002   8664600\n",
       "2025-09-26  83.379997   4675396\n",
       "\n",
       "[2700 rows x 2 columns]"
      ]
     },
     "execution_count": 39,
     "metadata": {},
     "output_type": "execute_result"
    }
   ],
   "source": [
    "df"
   ]
  },
  {
   "cell_type": "code",
   "execution_count": 44,
   "id": "a50bb913",
   "metadata": {},
   "outputs": [
    {
     "name": "stderr",
     "output_type": "stream",
     "text": [
      "/tmp/ipykernel_19852/3405286861.py:1: FutureWarning: 'A' is deprecated and will be removed in a future version, please use 'YE' instead.\n",
      "  df['Close'].resample('A').mean().plot.bar()\n"
     ]
    },
    {
     "data": {
      "text/plain": [
       "<Axes: xlabel='Date'>"
      ]
     },
     "execution_count": 44,
     "metadata": {},
     "output_type": "execute_result"
    },
    {
     "data": {
      "image/png": "[encoded data removed]",
      "text/plain": [
       "<Figure size 640x480 with 1 Axes>"
      ]
     },
     "metadata": {},
     "output_type": "display_data"
    }
   ],
   "source": [
    "df['Close'].resample('A').mean().plot.bar()"
   ]
  },
  {
   "cell_type": "code",
   "execution_count": 49,
   "id": "defa2f46",
   "metadata": {},
   "outputs": [
    {
     "name": "stderr",
     "output_type": "stream",
     "text": [
      "/tmp/ipykernel_19852/2645466835.py:2: FutureWarning: 'M' is deprecated and will be removed in a future version, please use 'ME' instead.\n",
      "  df['Close'].resample('M').max().plot.bar(title=title,figsize=(20,6))\n"
     ]
    },
    {
     "data": {
      "text/plain": [
       "<Axes: title={'center': 'Monthly Average Closing Price of Starbucks'}, xlabel='Date'>"
      ]
     },
     "execution_count": 49,
     "metadata": {},
     "output_type": "execute_result"
    },
    {
     "data": {
      "image/png": "[encoded data removed]",
      "text/plain": [
       "<Figure size 2000x600 with 1 Axes>"
      ]
     },
     "metadata": {},
     "output_type": "display_data"
    }
   ],
   "source": [
    "title = \"Monthly Average Closing Price of Starbucks\"\n",
    "df['Close'].resample('M').max().plot.bar(title=title,figsize=(20,6))"
   ]
  }
 ],
 "metadata": {
  "kernelspec": {
   "display_name": "Python 3.12",
   "language": "python",
   "name": "py312"
  },
  "language_info": {
   "codemirror_mode": {
    "name": "ipython",
    "version": 3
   },
   "file_extension": ".py",
   "mimetype": "text/x-python",
   "name": "python",
   "nbconvert_exporter": "python",
   "pygments_lexer": "ipython3",
   "version": "3.12.11"
  }
 },
 "nbformat": 4,
 "nbformat_minor": 5
}
